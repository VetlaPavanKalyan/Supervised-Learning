{
 "cells":[
  {
   "cell_type":"code",
   "source":[
    "import numpy as np\n",
    "import matplotlib.pyplot as plt\n",
    "from utils import *\n",
    "import copy\n",
    "import math\n",
    "%matplotlib inline"
   ],
   "execution_count":5,
   "outputs":[
    
   ],
   "metadata":{
    "datalore":{
     "type":"CODE",
     "hide_input_from_viewers":false,
     "hide_output_from_viewers":false,
     "node_id":"q6cIw2YNcaQJItog86PdN9"
    }
   }
  },
  {
   "cell_type":"code",
   "source":[
    "def load():\n",
    "    x = np.array([ 6.1101,  5.5277,  8.5186,  7.0032,  5.8598,  8.3829,  7.4764,\n",
    "         8.5781,  6.4862,  5.0546,  5.7107, 14.164 ,  5.734 ,  8.4084,\n",
    "         5.6407,  5.3794,  6.3654,  5.1301,  6.4296,  7.0708,  6.1891,\n",
    "        20.27  ,  5.4901,  6.3261,  5.5649, 18.945 , 12.828 , 10.957 ,\n",
    "        13.176 , 22.203 ,  5.2524,  6.5894,  9.2482,  5.8918,  8.2111,\n",
    "         7.9334,  8.0959,  5.6063, 12.836 ,  6.3534,  5.4069,  6.8825,\n",
    "        11.708 ,  5.7737,  7.8247,  7.0931,  5.0702,  5.8014, 11.7   ,\n",
    "         5.5416,  7.5402,  5.3077,  7.4239,  7.6031,  6.3328,  6.3589,\n",
    "         6.2742,  5.6397,  9.3102,  9.4536,  8.8254,  5.1793, 21.279 ,\n",
    "        14.908 , 18.959 ,  7.2182,  8.2951, 10.236 ,  5.4994, 20.341 ,\n",
    "        10.136 ,  7.3345,  6.0062,  7.2259,  5.0269,  6.5479,  7.5386,\n",
    "         5.0365, 10.274 ,  5.1077,  5.7292,  5.1884,  6.3557,  9.7687,\n",
    "         6.5159,  8.5172,  9.1802,  6.002 ,  5.5204,  5.0594,  5.7077,\n",
    "         7.6366,  5.8707,  5.3054,  8.2934, 13.394 ,  5.4369])\n",
    "    y = np.array([17.592  ,  9.1302 , 13.662  , 11.854  ,  6.8233 , 11.886  ,\n",
    "         4.3483 , 12.     ,  6.5987 ,  3.8166 ,  3.2522 , 15.505  ,\n",
    "         3.1551 ,  7.2258 ,  0.71618,  3.5129 ,  5.3048 ,  0.56077,\n",
    "         3.6518 ,  5.3893 ,  3.1386 , 21.767  ,  4.263  ,  5.1875 ,\n",
    "         3.0825 , 22.638  , 13.501  ,  7.0467 , 14.692  , 24.147  ,\n",
    "        -1.22   ,  5.9966 , 12.134  ,  1.8495 ,  6.5426 ,  4.5623 ,\n",
    "         4.1164 ,  3.3928 , 10.117  ,  5.4974 ,  0.55657,  3.9115 ,\n",
    "         5.3854 ,  2.4406 ,  6.7318 ,  1.0463 ,  5.1337 ,  1.844  ,\n",
    "         8.0043 ,  1.0179 ,  6.7504 ,  1.8396 ,  4.2885 ,  4.9981 ,\n",
    "         1.4233 , -1.4211 ,  2.4756 ,  4.6042 ,  3.9624 ,  5.4141 ,\n",
    "         5.1694 , -0.74279, 17.929  , 12.054  , 17.054  ,  4.8852 ,\n",
    "         5.7442 ,  7.7754 ,  1.0173 , 20.992  ,  6.6799 ,  4.0259 ,\n",
    "         1.2784 ,  3.3411 , -2.6807 ,  0.29678,  3.8845 ,  5.7014 ,\n",
    "         6.7526 ,  2.0576 ,  0.47953,  0.20421,  0.67861,  7.5435 ,\n",
    "         5.3436 ,  4.2415 ,  6.7981 ,  0.92695,  0.152  ,  2.8214 ,\n",
    "         1.8451 ,  4.2959 ,  7.2029 ,  1.9869 ,  0.14454,  9.0551 ,\n",
    "         0.61705])\n",
    "    return x, y"
   ],
   "execution_count":7,
   "outputs":[
    
   ],
   "metadata":{
    "datalore":{
     "type":"CODE",
     "hide_input_from_viewers":false,
     "hide_output_from_viewers":false,
     "node_id":"yqhBCl6CL87mz3JECV6SN7"
    }
   }
  },
  {
   "cell_type":"code",
   "source":[
    "x_train, y_train = load()"
   ],
   "execution_count":8,
   "outputs":[
    
   ],
   "metadata":{
    "datalore":{
     "type":"CODE",
     "hide_input_from_viewers":false,
     "hide_output_from_viewers":false,
     "node_id":"B4waC8ZsFDL76UVbvz8XBD"
    }
   }
  },
  {
   "cell_type":"code",
   "source":[
    "x_train[:5]"
   ],
   "execution_count":11,
   "outputs":[
    {
     "data":{
      "text\/html":[
       
      ]
     },
     "metadata":{
      
     },
     "output_type":"display_data"
    }
   ],
   "metadata":{
    "datalore":{
     "type":"CODE",
     "hide_input_from_viewers":false,
     "hide_output_from_viewers":false,
     "node_id":"Nw3omUhl4qWgYvXKix6bQL"
    }
   }
  },
  {
   "cell_type":"code",
   "source":[
    "type(x_train)"
   ],
   "execution_count":12,
   "outputs":[
    {
     "data":{
      "text\/plain":[
       "numpy.ndarray"
      ]
     },
     "metadata":{
      
     },
     "output_type":"display_data"
    }
   ],
   "metadata":{
    "datalore":{
     "type":"CODE",
     "hide_input_from_viewers":false,
     "hide_output_from_viewers":false,
     "node_id":"YKnzGkKKvgeMuRZy653YfR"
    }
   }
  },
  {
   "cell_type":"code",
   "source":[
    "plt.scatter(x_train, y_train, marker='*', c='r')\n",
    "\n",
    "# Set the title\n",
    "plt.title(\"Profits vs. Population per city\")\n",
    "# Set the y-axis label\n",
    "plt.ylabel('Profit in $10,000')\n",
    "# Set the x-axis label\n",
    "plt.xlabel('Population of City in 10,000s')\n",
    "plt.show()"
   ],
   "execution_count":16,
   "outputs":[
    {
     "data":{
      "image\/png":"[encoded data removed]"
     },
     "metadata":{
      "image\/png":{
       
      }
     },
     "output_type":"display_data"
    }
   ],
   "metadata":{
    "datalore":{
     "type":"CODE",
     "hide_input_from_viewers":false,
     "hide_output_from_viewers":false,
     "node_id":"UhH9XJalbL1H85RsIsHkhS"
    }
   }
  },
  {
   "cell_type":"code",
   "source":[
    "def compute_cost(x, y, w, b):\n",
    "    \"\"\"\n",
    "    Compute cost\n",
    "    return total_cost\n",
    "    \"\"\"\n",
    "    m = x.shape[0]\n",
    "    cost = 0\n",
    "    for i in range(m):\n",
    "        f_wb = w * x[i] + b\n",
    "        cost += (f_wb - y[i]) ** 2\n",
    "    total_cost = (1 \/ (2 * m)) * cost\n",
    "    \n",
    "    return total_cost"
   ],
   "execution_count":21,
   "outputs":[
    
   ],
   "metadata":{
    "datalore":{
     "type":"CODE",
     "hide_input_from_viewers":false,
     "hide_output_from_viewers":false,
     "node_id":"v8K98AGixYJnDG3tZP0gzM"
    }
   }
  },
  {
   "cell_type":"code",
   "source":[
    "initial_w = 2\n",
    "initial_b = 1\n",
    "\n",
    "fcost = compute_cost(x_train, y_train, initial_w, initial_b)\n",
    "print(f'Cost for initial w : {fcost: .3f}')"
   ],
   "execution_count":25,
   "outputs":[
    {
     "name":"stdout",
     "text":[
      "Cost for initial w :  75.203\n"
     ],
     "output_type":"stream"
    }
   ],
   "metadata":{
    "datalore":{
     "type":"CODE",
     "hide_input_from_viewers":false,
     "hide_output_from_viewers":false,
     "node_id":"S8vqM9t4tWSJoYMq8HX7hi"
    }
   }
  },
  {
   "cell_type":"code",
   "source":[
    "def compute_gradient(x, y, w, b):\n",
    "    \"\"\"\n",
    "    return dj_dw, dj_db\n",
    "    \"\"\"\n",
    "    m = x.shape[0]\n",
    "\n",
    "    dj_dw = 0\n",
    "    dj_db = 0\n",
    "    for i in range(m):\n",
    "        f_wb = x[i] * w + b\n",
    "        dj_dw += (f_wb - y[i]) * x[i]\n",
    "        dj_db += f_wb -y[i]\n",
    "    \n",
    "    return dj_dw \/ m, dj_db \/ m"
   ],
   "execution_count":28,
   "outputs":[
    
   ],
   "metadata":{
    "datalore":{
     "type":"CODE",
     "hide_input_from_viewers":false,
     "hide_output_from_viewers":false,
     "node_id":"nyDzTp1nOZk3AfRspiDF8a"
    }
   }
  },
  {
   "cell_type":"code",
   "source":[
    "initial_w = 0\n",
    "initial_b = 0\n",
    "\n",
    "tmp_dj_dw, tmp_dj_db = compute_gradient(x_train, y_train, initial_w, initial_b)\n",
    "print('Gradients at initial Zeros (w, b): ', tmp_dj_dw, tmp_dj_db)"
   ],
   "execution_count":29,
   "outputs":[
    {
     "name":"stdout",
     "text":[
      "Gradients at initial Zeros (w, b):  -65.32884974555672 -5.83913505154639\n"
     ],
     "output_type":"stream"
    }
   ],
   "metadata":{
    "datalore":{
     "type":"CODE",
     "hide_input_from_viewers":false,
     "hide_output_from_viewers":false,
     "node_id":"EoWGEwmINpVw5TbfenzkWp"
    }
   }
  },
  {
   "cell_type":"code",
   "source":[
    "test_w = 0.2\n",
    "test_b = 0.2\n",
    "\n",
    "test_dj_dw, test_dj_db = compute_gradient(x_train, y_train, test_w, test_b)\n",
    "print('Gradients at test (w, b): ', test_dj_dw, test_dj_db)"
   ],
   "execution_count":31,
   "outputs":[
    {
     "name":"stdout",
     "text":[
      "Gradients at test (w, b):  -47.41610118114435 -4.007175051546391\n"
     ],
     "output_type":"stream"
    }
   ],
   "metadata":{
    "datalore":{
     "type":"CODE",
     "hide_input_from_viewers":false,
     "hide_output_from_viewers":false,
     "node_id":"yd2VBm0ngC7LEYQTAwcK13"
    }
   }
  },
  {
   "cell_type":"code",
   "source":[
    "def gradient_descent(x, y, w_in, b_in, cost_function, gradient_function, alpha, num_iters):\n",
    "    \"\"\"\n",
    "    return w, b\n",
    "    \"\"\"\n",
    "    m = x.shape[0]\n",
    "    J_History = []\n",
    "    w_History = []\n",
    "    w = copy.deepcopy(w_in)\n",
    "    b = b_in\n",
    "\n",
    "    for i in range(num_iters):\n",
    "        dj_dw, dj_db = gradient_function(x, y, w, b)\n",
    "        w = w - (alpha * dj_dw)\n",
    "        b = b - (alpha * dj_db)\n",
    "\n",
    "        if i < 100000:\n",
    "            cost = cost_function(x, y, w, b)\n",
    "            J_History.append(cost)\n",
    "\n",
    "        if i % math.ceil(num_iters \/ 10) == 0:\n",
    "            w_History.append(w)\n",
    "            print(f'Interation {i : 4} : Cost {float(J_History[-1]) : 8.2f}')\n",
    "    return w, b, J_History, w_History"
   ],
   "execution_count":34,
   "outputs":[
    
   ],
   "metadata":{
    "datalore":{
     "type":"CODE",
     "hide_input_from_viewers":false,
     "hide_output_from_viewers":false,
     "node_id":"RLqQSRIDDVNYV4m3spGKAe"
    }
   }
  },
  {
   "cell_type":"code",
   "source":[
    "initial_w = 0\n",
    "initial_b = 0\n",
    "iterations = 1500\n",
    "alpha = 0.01\n",
    "w, b, _, _ = gradient_descent(x_train, y_train, initial_w, initial_b, compute_cost, compute_gradient, alpha, iterations)\n",
    "print('w, b found by gradient descent is: ', w, b)"
   ],
   "execution_count":36,
   "outputs":[
    {
     "name":"stdout",
     "text":[
      "Interation    0 : Cost     6.74\n",
      "Interation  150 : Cost     5.31\n",
      "Interation  300 : Cost     4.96\n",
      "Interation  450 : Cost     4.76\n",
      "Interation  600 : Cost     4.64\n",
      "Interation  750 : Cost     4.57\n",
      "Interation  900 : Cost     4.53\n",
      "Interation  1050 : Cost     4.51\n",
      "Interation  1200 : Cost     4.50\n",
      "Interation  1350 : Cost     4.49\n",
      "w, b found by gradient descent is:  1.166362350335582 -3.63029143940436\n"
     ],
     "output_type":"stream"
    }
   ],
   "metadata":{
    "datalore":{
     "type":"CODE",
     "hide_input_from_viewers":false,
     "hide_output_from_viewers":false,
     "node_id":"BpjhSmnRNTvOu3eNJ661nQ"
    }
   }
  },
  {
   "cell_type":"code",
   "source":[
    "m = x_train.shape[0]\n",
    "predicted = np.zeros(m)\n",
    "\n",
    "for i in range(m):\n",
    "    predicted[i] = w * x_train[i] + b"
   ],
   "execution_count":39,
   "outputs":[
    
   ],
   "metadata":{
    "datalore":{
     "type":"CODE",
     "hide_input_from_viewers":false,
     "hide_output_from_viewers":false,
     "node_id":"Pq7BhfvB67Md5eKHIEvYnX"
    }
   }
  },
  {
   "cell_type":"code",
   "source":[
    "plt.plot(x_train, predicted, c='b')\n",
    "plt.scatter(x_train, y_train, marker='*', c='r')\n",
    "# Set the title\n",
    "plt.title(\"Profits vs. Population per city\")\n",
    "# Set the y-axis label\n",
    "plt.ylabel('Profit in $10,000')\n",
    "# Set the x-axis label\n",
    "plt.xlabel('Population of City in 10,000s')"
   ],
   "execution_count":40,
   "outputs":[
    {
     "data":{
      "text\/plain":[
       "Text(0.5, 0, 'Population of City in 10,000s')"
      ]
     },
     "metadata":{
      
     },
     "output_type":"display_data"
    },
    {
     "data":{
      "image\/png":"[encoded data removed]"
     },
     "metadata":{
      "image\/png":{
       
      }
     },
     "output_type":"display_data"
    }
   ],
   "metadata":{
    "datalore":{
     "type":"CODE",
     "hide_input_from_viewers":false,
     "hide_output_from_viewers":false,
     "node_id":"HNj1lKI3dw5IEnTXSIDa5F"
    }
   }
  },
  {
   "cell_type":"markdown",
   "source":[
    "Your final values of $w,b$ can also be used to make predictions on profits. Let's predict what the profit would be in areas of 35,000 and 70,000 people. \n",
    "\n",
    "- The model takes in population of a city in 10,000s as input. \n",
    "\n",
    "- Therefore, 35,000 people can be translated into an input to the model as `np.array([3.5])`\n",
    "\n",
    "- Similarly, 70,000 people can be translated into an input to the model as `np.array([7.])`"
   ],
   "attachments":{
    
   },
   "metadata":{
    "datalore":{
     "type":"MD",
     "hide_input_from_viewers":false,
     "hide_output_from_viewers":false,
     "node_id":"g7rG9LgNy1u1R4HXYvjyI2"
    }
   }
  },
  {
   "cell_type":"code",
   "source":[
    "predict1 = 3.5 * w + b\n",
    "print(f'For population = 35,000, we predict a profit of ${predict1*10000:.2f}')\n",
    "predict2 = 7.0 * w + b\n",
    "print(f'For population = 70,000, we predict a profit of ${predict2*10000:.2f}')"
   ],
   "execution_count":45,
   "outputs":[
    {
     "name":"stdout",
     "text":[
      "For population = 35,000, we predict a profit of $4519.77\n",
      "For population = 70,000, we predict a profit of $45342.45\n"
     ],
     "output_type":"stream"
    }
   ],
   "metadata":{
    "datalore":{
     "type":"CODE",
     "hide_input_from_viewers":false,
     "hide_output_from_viewers":false,
     "node_id":"JUTo7mQg7InmTcwhZiMASF"
    }
   }
  }
 ],
 "metadata":{
  "kernelspec":{
   "display_name":"Python",
   "language":"python",
   "name":"python"
  },
  "datalore":{
   "version":1,
   "computation_mode":"JUPYTER",
   "package_manager":"pip",
   "base_environment":"default",
   "packages":[
    
   ]
  }
 },
 "nbformat":4,
 "nbformat_minor":4
}